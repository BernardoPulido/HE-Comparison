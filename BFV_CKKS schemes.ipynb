{
  "nbformat": 4,
  "nbformat_minor": 0,
  "metadata": {
    "colab": {
      "provenance": []
    },
    "kernelspec": {
      "name": "python3",
      "display_name": "Python 3"
    },
    "language_info": {
      "name": "python"
    }
  },
  "cells": [
    {
      "cell_type": "code",
      "metadata": {
        "colab": {
          "base_uri": "https://localhost:8080/"
        },
        "id": "StEUHx9eWwh7",
        "outputId": "8f6208d3-b032-4910-baef-94f310433dcc"
      },
      "source": [
        "pip install tenseal"
      ],
      "execution_count": null,
      "outputs": [
        {
          "output_type": "stream",
          "name": "stdout",
          "text": [
            "Looking in indexes: https://pypi.org/simple, https://us-python.pkg.dev/colab-wheels/public/simple/\n",
            "Requirement already satisfied: tenseal in /usr/local/lib/python3.7/dist-packages (0.3.12)\n"
          ]
        }
      ]
    },
    {
      "cell_type": "code",
      "metadata": {
        "id": "GrwjnCBFc4ro"
      },
      "source": [
        "import tenseal as ts\n",
        "from time import time"
      ],
      "execution_count": null,
      "outputs": []
    },
    {
      "cell_type": "markdown",
      "metadata": {
        "id": "R5nZH7cOatG3"
      },
      "source": [
        "# BFV SCHEME"
      ]
    },
    {
      "cell_type": "markdown",
      "metadata": {
        "id": "aF-ucdft24wn"
      },
      "source": [
        "*S1*"
      ]
    },
    {
      "cell_type": "code",
      "metadata": {
        "colab": {
          "base_uri": "https://localhost:8080/"
        },
        "id": "ZzhgaL6XWk5-",
        "outputId": "71e2372d-2f33-4692-b658-14f18967a458"
      },
      "source": [
        "contextss = ts.context(ts.SCHEME_TYPE.BFV, poly_modulus_degree=4096, plain_modulus=786433)\n",
        "\n",
        "t_start = time()\n",
        "contextss.generate_galois_keys()\n",
        "t_end = time()\n",
        "print(\"Context generation: {} ms\".format((t_end - t_start) * 1000))\n",
        "\n",
        "t_start = time()\n",
        "plain_vector1 = [1250]\n",
        "encrypted_vector1 = ts.bfv_vector(contextss, plain_vector1)\n",
        "\n",
        "\n",
        "plain_vector2 = [2140]\n",
        "encrypted_vector2 = ts.bfv_vector(contextss, plain_vector2)\n",
        "t_end = time()\n",
        "print(\"Encode: {} ms\".format((t_end - t_start) * 1000))\n",
        "\n",
        "t_start = time()\n",
        "encrypted_add = encrypted_vector1 + encrypted_vector2\n",
        "encrypted_add.decrypt()\n",
        "t_end = time()\n",
        "print(\"Addition: {} ms\".format((t_end - t_start) * 1000))\n",
        "\n",
        "\n",
        "t_start = time()\n",
        "encrypted_mul = encrypted_vector1 * encrypted_vector2\n",
        "encrypted_mul.decrypt()\n",
        "t_end = time()\n",
        "print(\"Multiplication: {} ms\".format((t_end - t_start) * 1000))\n",
        "\n",
        "plain_vector3 = [1160]\n",
        "encrypted_vector3 = ts.bfv_vector(contextss, plain_vector3)\n",
        "\n",
        "t_start = time()\n",
        "encrypted_vector3.decrypt()\n",
        "t_end = time()\n",
        "print(\"Decrypt: {} ms\".format((t_end - t_start) * 1000))\n",
        "\n"
      ],
      "execution_count": null,
      "outputs": [
        {
          "output_type": "stream",
          "name": "stdout",
          "text": [
            "Context generation: 61.78569793701172 ms\n",
            "Encode: 4.74858283996582 ms\n",
            "Addition: 1.2874603271484375 ms\n",
            "Multiplication: 8.269071578979492 ms\n",
            "Decrypt: 0.8504390716552734 ms\n"
          ]
        }
      ]
    },
    {
      "cell_type": "markdown",
      "metadata": {
        "id": "CYN5fePw29cE"
      },
      "source": [
        "*S2*"
      ]
    },
    {
      "cell_type": "code",
      "metadata": {
        "colab": {
          "base_uri": "https://localhost:8080/"
        },
        "id": "zvwh1yVy2_2Q",
        "outputId": "da037e36-d73d-42fe-a49c-533b4f1b4e6b"
      },
      "source": [
        "contextss = ts.context(ts.SCHEME_TYPE.BFV, poly_modulus_degree=8192, plain_modulus=1032193)\n",
        "\n",
        "t_start = time()\n",
        "contextss.generate_galois_keys()\n",
        "t_end = time()\n",
        "print(\"Context generation: {} ms\".format((t_end - t_start) * 1000))\n",
        "\n",
        "t_start = time()\n",
        "plain_vector1 = [1250]\n",
        "encrypted_vector1 = ts.bfv_vector(contextss, plain_vector1)\n",
        "\n",
        "\n",
        "plain_vector2 = [2140]\n",
        "encrypted_vector2 = ts.bfv_vector(contextss, plain_vector2)\n",
        "t_end = time()\n",
        "print(\"Encode: {} ms\".format((t_end - t_start) * 1000))\n",
        "\n",
        "t_start = time()\n",
        "encrypted_add = encrypted_vector1 + encrypted_vector2\n",
        "encrypted_add.decrypt()\n",
        "t_end = time()\n",
        "print(\"Addition: {} ms\".format((t_end - t_start) * 1000))\n",
        "\n",
        "\n",
        "t_start = time()\n",
        "encrypted_mul = encrypted_vector1 * encrypted_vector2\n",
        "encrypted_mul.decrypt()\n",
        "t_end = time()\n",
        "print(\"Multiplication: {} ms\".format((t_end - t_start) * 1000))\n",
        "\n",
        "plain_vector3 = [1160]\n",
        "encrypted_vector3 = ts.bfv_vector(contextss, plain_vector3)\n",
        "\n",
        "t_start = time()\n",
        "encrypted_vector3.decrypt()\n",
        "t_end = time()\n",
        "print(\"Decrypt: {} ms\".format((t_end - t_start) * 1000))"
      ],
      "execution_count": null,
      "outputs": [
        {
          "output_type": "stream",
          "text": [
            "Context generation: 431.06961250305176 ms\n",
            "Encode: 18.04947853088379 ms\n",
            "Addition: 3.621816635131836 ms\n",
            "Multiplication: 32.71961212158203 ms\n",
            "Decrypt: 3.0317306518554688 ms\n"
          ],
          "name": "stdout"
        }
      ]
    },
    {
      "cell_type": "markdown",
      "metadata": {
        "id": "vvWN0mqWaxPZ"
      },
      "source": [
        "# CKKS SCHEME"
      ]
    },
    {
      "cell_type": "markdown",
      "metadata": {
        "id": "HEiVZ-zS3uMM"
      },
      "source": [
        "*S1*"
      ]
    },
    {
      "cell_type": "code",
      "metadata": {
        "colab": {
          "base_uri": "https://localhost:8080/"
        },
        "id": "GRNgdlfR3v6n",
        "outputId": "db8e31ff-f591-4fc5-c33a-41781192af4b"
      },
      "source": [
        "import torch\n",
        "from torchvision import transforms\n",
        "from random import randint\n",
        "import pickle\n",
        "from PIL import Image\n",
        "import numpy as np\n",
        "from matplotlib.pyplot import imshow\n",
        "from typing import Dict\n",
        "\n",
        "t_start = time()\n",
        "poly_mod_degree = 4096\n",
        "coeff_mod_bit_sizes = [40, 20, 40]\n",
        "ctx = ts.context(ts.SCHEME_TYPE.CKKS, poly_mod_degree, -1, coeff_mod_bit_sizes)\n",
        "ctx.global_scale = 2 ** 20\n",
        "ctx.generate_galois_keys()\n",
        "t_end = time()\n",
        "print(\"Context generation: {} ms\".format((t_end - t_start) * 1000))\n",
        "\n",
        "t_start = time()\n",
        "plain1 = ts.plain_tensor([12150.156])\n",
        "plain2 = ts.plain_tensor([21420.87])\n",
        "\n",
        "encrypted_tensor1 = ts.ckks_tensor(ctx, plain1)\n",
        "encrypted_tensor2 = ts.ckks_tensor(ctx, plain2)\n",
        "t_end = time()\n",
        "print(\"Encode: {} ms\".format((t_end - t_start) * 1000))\n",
        "\n",
        "def decrypt(enc):\n",
        "    return enc.decrypt().tolist()\n",
        "\n",
        "t_start = time()\n",
        "result = encrypted_tensor1 + encrypted_tensor2\n",
        "print(\"Plain equivalent: {} + {}\\nDecrypted result: {}.\".format(plain1.tolist(), plain2.tolist(), decrypt(result)))\n",
        "t_end = time()\n",
        "print(\"Addition: {} ms\".format((t_end - t_start) * 1000))\n",
        "\n",
        "t_start = time()\n",
        "result = encrypted_tensor1 * encrypted_tensor2\n",
        "print(\"Plain equivalent: {} * {}\\nDecrypted result: {}.\".format(plain1.tolist(), plain2.tolist(), decrypt(result)))\n",
        "t_end = time()\n",
        "print(\"Multiplication: {} ms\".format((t_end - t_start) * 1000))\n",
        "\n",
        "\n",
        "plain3 = ts.plain_tensor([199250.156])\n",
        "encrypted_tensor3 = ts.ckks_tensor(ctx, plain3)\n",
        "\n",
        "t_start = time()\n",
        "print(\"Plain equivalent: Decrypted result: {}.\".format(decrypt(result)))\n",
        "t_end = time()\n",
        "print(\"Decrypt: {} ms\".format((t_end - t_start) * 1000))\n"
      ],
      "execution_count": null,
      "outputs": [
        {
          "output_type": "stream",
          "text": [
            "Context generation: 75.75416564941406 ms\n",
            "Encode: 6.488561630249023 ms\n",
            "Plain equivalent: [12150.156] + [21420.87]\n",
            "Decrypted result: [33571.02593240087].\n",
            "Addition: 1.7626285552978516 ms\n",
            "Plain equivalent: [12150.156] * [21420.87]\n",
            "Decrypted result: [156784.00949027934].\n",
            "Multiplication: 2.916574478149414 ms\n",
            "Plain equivalent: Decrypted result: [156784.00949027934].\n",
            "Decrypt: 0.5803108215332031 ms\n"
          ],
          "name": "stdout"
        }
      ]
    },
    {
      "cell_type": "markdown",
      "metadata": {
        "id": "pw8l9KOd99lV"
      },
      "source": [
        "*S2*"
      ]
    },
    {
      "cell_type": "code",
      "metadata": {
        "id": "qxsFjuR-bJVl",
        "colab": {
          "base_uri": "https://localhost:8080/"
        },
        "outputId": "edefd04c-51e3-4214-ef95-3f0c9742376f"
      },
      "source": [
        "t_start = time()\n",
        "poly_mod_degree = 8192\n",
        "coeff_mod_bit_sizes = [40, 21, 21, 21, 21, 21, 21, 40]\n",
        "\n",
        "# create TenSEALContext\n",
        "ctx = ts.context(ts.SCHEME_TYPE.CKKS, poly_mod_degree, -1, coeff_mod_bit_sizes)\n",
        "ctx.global_scale = 2 ** 21\n",
        "ctx.generate_galois_keys()\n",
        "t_end = time()\n",
        "print(\"Context generation: {} ms\".format((t_end - t_start) * 1000))\n",
        "\n",
        "t_start = time()\n",
        "poly_mod_degree = 8192\n",
        "\n",
        "bits_scale = 26\n",
        "coeff_mod_bit_sizes = [31, bits_scale, bits_scale, bits_scale, bits_scale, bits_scale, bits_scale, 31]\n",
        "\n",
        "ctx = ts.context(ts.SCHEME_TYPE.CKKS, poly_mod_degree, -1, coeff_mod_bit_sizes)\n",
        "ctx.global_scale = 2 ** bits_scale\n",
        "ctx.generate_galois_keys()\n",
        "t_end = time()\n",
        "print(\"Context generation2: {} ms\".format((t_end - t_start) * 1000))\n",
        "\n",
        "\n",
        "t_start = time()\n",
        "plain1 = ts.plain_tensor([12950.1516])\n",
        "plain2 = ts.plain_tensor([21401.87123])\n",
        "\n",
        "encrypted_tensor1 = ts.ckks_tensor(ctx, plain1)\n",
        "encrypted_tensor2 = ts.ckks_tensor(ctx, plain2)\n",
        "t_end = time()\n",
        "print(\"Encode: {} ms\".format((t_end - t_start) * 1000))\n",
        "\n",
        "def decrypt(enc):\n",
        "    return enc.decrypt().tolist()\n",
        "\n",
        "t_start = time()\n",
        "result = encrypted_tensor1 + encrypted_tensor2\n",
        "print(\"Plain equivalent: {} + {}\\nDecrypted result: {}.\".format(plain1.tolist(), plain2.tolist(), decrypt(result)))\n",
        "t_end = time()\n",
        "print(\"Addition: {} ms\".format((t_end - t_start) * 1000))\n",
        "\n",
        "t_start = time()\n",
        "result = encrypted_tensor1 * encrypted_tensor2\n",
        "print(\"Plain equivalent: {} * {}\\nDecrypted result: {}.\".format(plain1.tolist(), plain2.tolist(), decrypt(result)))\n",
        "t_end = time()\n",
        "print(\"Multiplication: {} ms\".format((t_end - t_start) * 1000))\n",
        "\n",
        "\n",
        "plain3 = ts.plain_tensor([12950.15699])\n",
        "encrypted_tensor3 = ts.ckks_tensor(ctx, plain3)\n",
        "\n",
        "t_start = time()\n",
        "print(\"Plain equivalent: Decrypted result: {}.\".format(decrypt(result)))\n",
        "t_end = time()\n",
        "print(\"Decrypt: {} ms\".format((t_end - t_start) * 1000))"
      ],
      "execution_count": null,
      "outputs": [
        {
          "output_type": "stream",
          "text": [
            "Context generation: 1174.0732192993164 ms\n",
            "Context generation2: 1157.12571144104 ms\n",
            "Encode: 24.094343185424805 ms\n",
            "Plain equivalent: [12950.1516] + [21401.87123]\n",
            "Decrypted result: [34352.02284299869].\n",
            "Addition: 8.577346801757812 ms\n",
            "Plain equivalent: [12950.1516] * [21401.87123]\n",
            "Decrypted result: [277428399.24143046].\n",
            "Multiplication: 24.639606475830078 ms\n",
            "Plain equivalent: Decrypted result: [277428399.24143046].\n",
            "Decrypt: 6.09278678894043 ms\n"
          ],
          "name": "stdout"
        }
      ]
    }
  ]
}
